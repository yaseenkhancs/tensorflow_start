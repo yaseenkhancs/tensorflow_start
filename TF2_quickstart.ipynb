{
  "nbformat": 4,
  "nbformat_minor": 0,
  "metadata": {
    "colab": {
      "provenance": []
    },
    "kernelspec": {
      "name": "python3",
      "display_name": "Python 3"
    },
    "language_info": {
      "name": "python"
    }
  },
  "cells": [
    {
      "cell_type": "code",
      "execution_count": 2,
      "metadata": {
        "colab": {
          "base_uri": "https://localhost:8080/"
        },
        "id": "OcSo6KMMtL-C",
        "outputId": "437a9557-751b-4dc8-f49a-953d21cb2e28"
      },
      "outputs": [
        {
          "output_type": "stream",
          "name": "stdout",
          "text": [
            "Tensorflow version: 2.12.0\n"
          ]
        }
      ],
      "source": [
        "import tensorflow as tf\n",
        "print (\"Tensorflow version:\", tf.__version__)"
      ]
    },
    {
      "cell_type": "code",
      "source": [
        "mnist = tf.keras.datasets.mnist\n",
        "\n",
        "(x_train, y_train), (x_test, y_test) = mnist.load_data()\n",
        "#training set is 60,000 x 28 x 28, with the label a vector of size 60,000. \n",
        "#test values are 10,000 x 28 x 28\n",
        "x_train, x_test = x_train / 255.0, x_test / 255.0\n",
        "#RGB values normalised to 1"
      ],
      "metadata": {
        "id": "JSD5gAdvuFue"
      },
      "execution_count": 17,
      "outputs": []
    },
    {
      "cell_type": "code",
      "source": [
        "model = tf.keras.models.Sequential([ #sequential useful for stacking layers where each layer has 1 input tensor\n",
        "    tf.keras.layers.Flatten(input_shape=(28, 28)), \n",
        "    tf.keras.layers.Dense(128, activation='relu'), #1: dimensionality of the output space, 2: activation function\n",
        "    tf.keras.layers.Dropout(0.2), #fraction of input units to drop, to prevent overfitting\n",
        "    tf.keras.layers.Dense(10) #output size: 10\n",
        "])\n",
        "\n",
        "#each layer has 1 input tensor and 1 output tensor\n",
        "\n",
        "#tensorflow layers are callable objects that takes as input one or \n",
        "#more tensors and that outputs one or more tensors\n",
        "\n",
        "predictions = model(x_train[:1]).numpy() #dimensionality 10 (due to 10 output neurons)\n",
        "predictions\n"
      ],
      "metadata": {
        "id": "CEfpn5tigRLn",
        "colab": {
          "base_uri": "https://localhost:8080/"
        },
        "outputId": "56c02001-d021-4e88-eec9-2e52fcf72e68"
      },
      "execution_count": 18,
      "outputs": [
        {
          "output_type": "execute_result",
          "data": {
            "text/plain": [
              "array([[ 0.2963053 ,  0.14756723, -0.6664161 ,  0.24374151, -0.7157932 ,\n",
              "         0.37048018, -0.27088916,  0.04335836,  0.32366914,  0.13400002]],\n",
              "      dtype=float32)"
            ]
          },
          "metadata": {},
          "execution_count": 18
        }
      ]
    },
    {
      "cell_type": "code",
      "source": [
        "tf.nn.softmax(predictions).numpy() #converts those logits to probabilities for each class"
      ],
      "metadata": {
        "colab": {
          "base_uri": "https://localhost:8080/"
        },
        "id": "j_x4tYelTHrQ",
        "outputId": "899fd6a7-ce06-4dc4-fd54-7094cc06504e"
      },
      "execution_count": 19,
      "outputs": [
        {
          "output_type": "execute_result",
          "data": {
            "text/plain": [
              "array([[0.12731655, 0.10972074, 0.04861612, 0.12079716, 0.04627389,\n",
              "        0.13711931, 0.07220303, 0.09886246, 0.13084853, 0.10824219]],\n",
              "      dtype=float32)"
            ]
          },
          "metadata": {},
          "execution_count": 19
        }
      ]
    },
    {
      "cell_type": "code",
      "source": [
        "loss_fn = tf.keras.losses.SparseCategoricalCrossentropy(from_logits=True) \n",
        "#loss function takes a vector of truth values and logits and returns scalar loss for each example\n",
        "#equal to neg log probability of the true class: 0 is sure of correct class\n",
        "\n",
        "loss_fn(y_train[:1], predictions).numpy()"
      ],
      "metadata": {
        "colab": {
          "base_uri": "https://localhost:8080/"
        },
        "id": "jADCfrYHTOx9",
        "outputId": "e3c0f572-2376-407a-a89f-8cdecbdd7a54"
      },
      "execution_count": 20,
      "outputs": [
        {
          "output_type": "execute_result",
          "data": {
            "text/plain": [
              "1.9869039"
            ]
          },
          "metadata": {},
          "execution_count": 20
        }
      ]
    },
    {
      "cell_type": "code",
      "source": [
        "model.compile(optimizer='adam',\n",
        "              loss=loss_fn,\n",
        "              metrics=['accuracy'])\n",
        "\n",
        "model.fit(x_train, y_train, epochs = 5)"
      ],
      "metadata": {
        "colab": {
          "base_uri": "https://localhost:8080/"
        },
        "id": "JGuKXOHnUSj0",
        "outputId": "1c4d1fd3-21e5-4884-9a15-6f49074f2868"
      },
      "execution_count": 21,
      "outputs": [
        {
          "output_type": "stream",
          "name": "stdout",
          "text": [
            "Epoch 1/5\n",
            "1875/1875 [==============================] - 6s 3ms/step - loss: 0.2944 - accuracy: 0.9147\n",
            "Epoch 2/5\n",
            "1875/1875 [==============================] - 4s 2ms/step - loss: 0.1419 - accuracy: 0.9577\n",
            "Epoch 3/5\n",
            "1875/1875 [==============================] - 4s 2ms/step - loss: 0.1067 - accuracy: 0.9679\n",
            "Epoch 4/5\n",
            "1875/1875 [==============================] - 5s 3ms/step - loss: 0.0873 - accuracy: 0.9739\n",
            "Epoch 5/5\n",
            "1875/1875 [==============================] - 4s 2ms/step - loss: 0.0747 - accuracy: 0.9768\n"
          ]
        },
        {
          "output_type": "execute_result",
          "data": {
            "text/plain": [
              "<keras.callbacks.History at 0x7f8dba28b160>"
            ]
          },
          "metadata": {},
          "execution_count": 21
        }
      ]
    },
    {
      "cell_type": "code",
      "source": [
        "model.evaluate(x_test, y_test, verbose=2)"
      ],
      "metadata": {
        "colab": {
          "base_uri": "https://localhost:8080/"
        },
        "id": "ZTAzfETtUnR4",
        "outputId": "ff12ef5d-b49f-4d91-f9ff-731fcca9760a"
      },
      "execution_count": 22,
      "outputs": [
        {
          "output_type": "stream",
          "name": "stdout",
          "text": [
            "313/313 - 0s - loss: 0.0730 - accuracy: 0.9773 - 451ms/epoch - 1ms/step\n"
          ]
        },
        {
          "output_type": "execute_result",
          "data": {
            "text/plain": [
              "[0.0729941800236702, 0.9772999882698059]"
            ]
          },
          "metadata": {},
          "execution_count": 22
        }
      ]
    },
    {
      "cell_type": "code",
      "source": [
        "probability_model = tf.keras.Sequential([\n",
        "    model,\n",
        "    tf.keras.layers.Softmax()\n",
        "])"
      ],
      "metadata": {
        "id": "e1NUVLt0VDcI"
      },
      "execution_count": 24,
      "outputs": []
    },
    {
      "cell_type": "code",
      "source": [
        "probability_model(x_test[:5])"
      ],
      "metadata": {
        "colab": {
          "base_uri": "https://localhost:8080/"
        },
        "id": "EDx8IOxxVKv7",
        "outputId": "2cefd516-a6a8-43ee-99c1-ccb5aa58dd46"
      },
      "execution_count": 25,
      "outputs": [
        {
          "output_type": "execute_result",
          "data": {
            "text/plain": [
              "<tf.Tensor: shape=(5, 10), dtype=float32, numpy=\n",
              "array([[9.8200353e-08, 4.6678917e-08, 8.4296471e-06, 2.2822036e-03,\n",
              "        2.4834771e-11, 1.2738034e-06, 4.6347023e-12, 9.9768829e-01,\n",
              "        3.6118693e-06, 1.5959387e-05],\n",
              "       [1.7208076e-07, 2.4937055e-04, 9.9971122e-01, 3.6132180e-05,\n",
              "        3.8593336e-17, 3.0620374e-06, 3.1018448e-08, 1.7073157e-12,\n",
              "        1.4677804e-07, 1.2432409e-14],\n",
              "       [5.0664295e-07, 9.9835169e-01, 1.5325740e-04, 4.9570488e-05,\n",
              "        1.3099970e-05, 3.1815975e-07, 1.2902348e-05, 1.2764594e-03,\n",
              "        1.4195866e-04, 2.5244759e-07],\n",
              "       [9.9980754e-01, 1.3942762e-10, 2.0430000e-06, 2.8619922e-07,\n",
              "        5.5715653e-08, 2.3757700e-07, 1.7231685e-04, 1.6946042e-05,\n",
              "        5.8802413e-10, 6.0339505e-07],\n",
              "       [5.5125838e-06, 4.5542357e-09, 2.6862447e-06, 1.8159693e-07,\n",
              "        9.9684876e-01, 1.3176949e-06, 1.5876491e-05, 2.1805114e-04,\n",
              "        1.6417913e-06, 2.9059348e-03]], dtype=float32)>"
            ]
          },
          "metadata": {},
          "execution_count": 25
        }
      ]
    }
  ]
}